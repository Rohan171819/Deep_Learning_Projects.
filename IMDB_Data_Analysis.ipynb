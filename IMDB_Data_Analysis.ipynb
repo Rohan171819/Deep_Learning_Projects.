{
  "cells": [
    {
      "cell_type": "markdown",
      "metadata": {
        "id": "view-in-github",
        "colab_type": "text"
      },
      "source": [
        "<a href=\"https://colab.research.google.com/github/Rohan171819/Deep_Learning_Projects./blob/main/IMDB_Data_Analysis.ipynb\" target=\"_parent\"><img src=\"https://colab.research.google.com/assets/colab-badge.svg\" alt=\"Open In Colab\"/></a>"
      ]
    },
    {
      "cell_type": "code",
      "execution_count": 1,
      "metadata": {
        "id": "IkRDzjsasee3"
      },
      "outputs": [],
      "source": [
        "from tensorflow import keras\n",
        "from keras.datasets import imdb\n",
        "from keras import Sequential\n",
        "from keras.layers import SimpleRNN,Flatten,Embedding,Dense"
      ]
    },
    {
      "cell_type": "code",
      "execution_count": 2,
      "metadata": {
        "id": "h1-4fd54tCBg",
        "colab": {
          "base_uri": "https://localhost:8080/"
        },
        "outputId": "8ad95d92-51fc-4088-9f55-a17d0ee3cbcc"
      },
      "outputs": [
        {
          "output_type": "stream",
          "name": "stdout",
          "text": [
            "Downloading data from https://storage.googleapis.com/tensorflow/tf-keras-datasets/imdb.npz\n",
            "17464789/17464789 [==============================] - 0s 0us/step\n"
          ]
        }
      ],
      "source": [
        "(X_train,Y_train),(X_test,Y_test)=imdb.load_data()"
      ]
    },
    {
      "cell_type": "code",
      "execution_count": 3,
      "metadata": {
        "colab": {
          "base_uri": "https://localhost:8080/"
        },
        "id": "L8R_LYiKyYqe",
        "outputId": "e013c225-0be2-41e3-db86-3ad75cefac2d"
      },
      "outputs": [
        {
          "output_type": "execute_result",
          "data": {
            "text/plain": [
              "[1,\n",
              " 14,\n",
              " 22,\n",
              " 16,\n",
              " 43,\n",
              " 530,\n",
              " 973,\n",
              " 1622,\n",
              " 1385,\n",
              " 65,\n",
              " 458,\n",
              " 4468,\n",
              " 66,\n",
              " 3941,\n",
              " 4,\n",
              " 173,\n",
              " 36,\n",
              " 256,\n",
              " 5,\n",
              " 25,\n",
              " 100,\n",
              " 43,\n",
              " 838,\n",
              " 112,\n",
              " 50,\n",
              " 670,\n",
              " 22665,\n",
              " 9,\n",
              " 35,\n",
              " 480,\n",
              " 284,\n",
              " 5,\n",
              " 150,\n",
              " 4,\n",
              " 172,\n",
              " 112,\n",
              " 167,\n",
              " 21631,\n",
              " 336,\n",
              " 385,\n",
              " 39,\n",
              " 4,\n",
              " 172,\n",
              " 4536,\n",
              " 1111,\n",
              " 17,\n",
              " 546,\n",
              " 38,\n",
              " 13,\n",
              " 447,\n",
              " 4,\n",
              " 192,\n",
              " 50,\n",
              " 16,\n",
              " 6,\n",
              " 147,\n",
              " 2025,\n",
              " 19,\n",
              " 14,\n",
              " 22,\n",
              " 4,\n",
              " 1920,\n",
              " 4613,\n",
              " 469,\n",
              " 4,\n",
              " 22,\n",
              " 71,\n",
              " 87,\n",
              " 12,\n",
              " 16,\n",
              " 43,\n",
              " 530,\n",
              " 38,\n",
              " 76,\n",
              " 15,\n",
              " 13,\n",
              " 1247,\n",
              " 4,\n",
              " 22,\n",
              " 17,\n",
              " 515,\n",
              " 17,\n",
              " 12,\n",
              " 16,\n",
              " 626,\n",
              " 18,\n",
              " 19193,\n",
              " 5,\n",
              " 62,\n",
              " 386,\n",
              " 12,\n",
              " 8,\n",
              " 316,\n",
              " 8,\n",
              " 106,\n",
              " 5,\n",
              " 4,\n",
              " 2223,\n",
              " 5244,\n",
              " 16,\n",
              " 480,\n",
              " 66,\n",
              " 3785,\n",
              " 33,\n",
              " 4,\n",
              " 130,\n",
              " 12,\n",
              " 16,\n",
              " 38,\n",
              " 619,\n",
              " 5,\n",
              " 25,\n",
              " 124,\n",
              " 51,\n",
              " 36,\n",
              " 135,\n",
              " 48,\n",
              " 25,\n",
              " 1415,\n",
              " 33,\n",
              " 6,\n",
              " 22,\n",
              " 12,\n",
              " 215,\n",
              " 28,\n",
              " 77,\n",
              " 52,\n",
              " 5,\n",
              " 14,\n",
              " 407,\n",
              " 16,\n",
              " 82,\n",
              " 10311,\n",
              " 8,\n",
              " 4,\n",
              " 107,\n",
              " 117,\n",
              " 5952,\n",
              " 15,\n",
              " 256,\n",
              " 4,\n",
              " 31050,\n",
              " 7,\n",
              " 3766,\n",
              " 5,\n",
              " 723,\n",
              " 36,\n",
              " 71,\n",
              " 43,\n",
              " 530,\n",
              " 476,\n",
              " 26,\n",
              " 400,\n",
              " 317,\n",
              " 46,\n",
              " 7,\n",
              " 4,\n",
              " 12118,\n",
              " 1029,\n",
              " 13,\n",
              " 104,\n",
              " 88,\n",
              " 4,\n",
              " 381,\n",
              " 15,\n",
              " 297,\n",
              " 98,\n",
              " 32,\n",
              " 2071,\n",
              " 56,\n",
              " 26,\n",
              " 141,\n",
              " 6,\n",
              " 194,\n",
              " 7486,\n",
              " 18,\n",
              " 4,\n",
              " 226,\n",
              " 22,\n",
              " 21,\n",
              " 134,\n",
              " 476,\n",
              " 26,\n",
              " 480,\n",
              " 5,\n",
              " 144,\n",
              " 30,\n",
              " 5535,\n",
              " 18,\n",
              " 51,\n",
              " 36,\n",
              " 28,\n",
              " 224,\n",
              " 92,\n",
              " 25,\n",
              " 104,\n",
              " 4,\n",
              " 226,\n",
              " 65,\n",
              " 16,\n",
              " 38,\n",
              " 1334,\n",
              " 88,\n",
              " 12,\n",
              " 16,\n",
              " 283,\n",
              " 5,\n",
              " 16,\n",
              " 4472,\n",
              " 113,\n",
              " 103,\n",
              " 32,\n",
              " 15,\n",
              " 16,\n",
              " 5345,\n",
              " 19,\n",
              " 178,\n",
              " 32]"
            ]
          },
          "metadata": {},
          "execution_count": 3
        }
      ],
      "source": [
        "X_train[0]"
      ]
    },
    {
      "cell_type": "code",
      "execution_count": 4,
      "metadata": {
        "colab": {
          "base_uri": "https://localhost:8080/"
        },
        "id": "ULAISsZAyaLg",
        "outputId": "125a92a9-6c69-40b6-b314-609def6325d4"
      },
      "outputs": [
        {
          "output_type": "stream",
          "name": "stdout",
          "text": [
            "218\n",
            "189\n",
            "141\n"
          ]
        }
      ],
      "source": [
        "print(len(X_train[0]))\n",
        "print(len(X_train[1]))\n",
        "print(len(X_train[2]))"
      ]
    },
    {
      "cell_type": "code",
      "execution_count": 5,
      "metadata": {
        "id": "F9kZMwRDyyLU"
      },
      "outputs": [],
      "source": [
        "from keras.src.utils import pad_sequences\n",
        "# Since all the data is not padded.So we are padding the data...\n",
        "X_train=pad_sequences(X_train,maxlen=100,padding=\"post\")\n",
        "X_test=pad_sequences(X_test,maxlen=100,padding=\"post\")"
      ]
    },
    {
      "cell_type": "code",
      "execution_count": 6,
      "metadata": {
        "colab": {
          "base_uri": "https://localhost:8080/"
        },
        "id": "pn_lQycxzr0i",
        "outputId": "dde70688-708c-4d15-8ba1-5de021235fcc"
      },
      "outputs": [
        {
          "output_type": "execute_result",
          "data": {
            "text/plain": [
              "(25000, 100)"
            ]
          },
          "metadata": {},
          "execution_count": 6
        }
      ],
      "source": [
        "X_train.shape"
      ]
    },
    {
      "cell_type": "code",
      "execution_count": 7,
      "metadata": {
        "colab": {
          "base_uri": "https://localhost:8080/"
        },
        "id": "FE-xNODEIZY0",
        "outputId": "496d73ed-e8ef-462d-89de-4195d5ee2eff"
      },
      "outputs": [
        {
          "output_type": "execute_result",
          "data": {
            "text/plain": [
              "(25000,)"
            ]
          },
          "metadata": {},
          "execution_count": 7
        }
      ],
      "source": [
        "Y_train.shape"
      ]
    },
    {
      "cell_type": "code",
      "execution_count": 8,
      "metadata": {
        "colab": {
          "base_uri": "https://localhost:8080/"
        },
        "id": "EUFFcuOFzvyG",
        "outputId": "a3c9fea0-8a64-43ea-e6ca-7bf8de076ea2"
      },
      "outputs": [
        {
          "output_type": "execute_result",
          "data": {
            "text/plain": [
              "(25000, 100)"
            ]
          },
          "metadata": {},
          "execution_count": 8
        }
      ],
      "source": [
        "X_test.shape"
      ]
    },
    {
      "cell_type": "code",
      "execution_count": 9,
      "metadata": {
        "colab": {
          "base_uri": "https://localhost:8080/"
        },
        "id": "gE8JBHR0IUGf",
        "outputId": "727a2872-84a7-4e70-cf1a-23e28669e61c"
      },
      "outputs": [
        {
          "output_type": "execute_result",
          "data": {
            "text/plain": [
              "(25000,)"
            ]
          },
          "metadata": {},
          "execution_count": 9
        }
      ],
      "source": [
        "Y_test.shape"
      ]
    },
    {
      "cell_type": "markdown",
      "metadata": {
        "id": "IKabVpgCQsYL"
      },
      "source": [
        "With Interger Encoding only..."
      ]
    },
    {
      "cell_type": "code",
      "execution_count": 10,
      "metadata": {
        "id": "dbk7QZTnzysC"
      },
      "outputs": [],
      "source": [
        "model=Sequential()\n",
        "model.add(SimpleRNN(32,input_shape=(100,1),return_sequences=False))\n",
        "model.add(Dense(1,activation=\"sigmoid\"))"
      ]
    },
    {
      "cell_type": "code",
      "execution_count": 11,
      "metadata": {
        "colab": {
          "base_uri": "https://localhost:8080/"
        },
        "id": "lDppDiz61KJu",
        "outputId": "719d4609-27cf-4ea8-ab63-e7aff83c6c41"
      },
      "outputs": [
        {
          "output_type": "stream",
          "name": "stdout",
          "text": [
            "Model: \"sequential\"\n",
            "_________________________________________________________________\n",
            " Layer (type)                Output Shape              Param #   \n",
            "=================================================================\n",
            " simple_rnn (SimpleRNN)      (None, 32)                1088      \n",
            "                                                                 \n",
            " dense (Dense)               (None, 1)                 33        \n",
            "                                                                 \n",
            "=================================================================\n",
            "Total params: 1121 (4.38 KB)\n",
            "Trainable params: 1121 (4.38 KB)\n",
            "Non-trainable params: 0 (0.00 Byte)\n",
            "_________________________________________________________________\n"
          ]
        }
      ],
      "source": [
        "model.summary()"
      ]
    },
    {
      "cell_type": "code",
      "execution_count": 12,
      "metadata": {
        "id": "F1gLNi3M2c_3"
      },
      "outputs": [],
      "source": [
        "model.compile(loss=\"binary_crossentropy\",optimizer=\"adam\",metrics=[\"accuracy\"])"
      ]
    },
    {
      "cell_type": "code",
      "execution_count": 13,
      "metadata": {
        "colab": {
          "base_uri": "https://localhost:8080/"
        },
        "id": "kDUZfcmGHLtB",
        "outputId": "258826f8-e24c-4c85-e8c7-f4cb6c8fd1f7"
      },
      "outputs": [
        {
          "output_type": "stream",
          "name": "stdout",
          "text": [
            "Epoch 1/10\n",
            "782/782 [==============================] - 64s 75ms/step - loss: 0.6936 - accuracy: 0.5072 - val_loss: 0.6938 - val_accuracy: 0.5057\n",
            "Epoch 2/10\n",
            "782/782 [==============================] - 56s 72ms/step - loss: 0.6929 - accuracy: 0.5144 - val_loss: 0.6947 - val_accuracy: 0.5028\n",
            "Epoch 3/10\n",
            "782/782 [==============================] - 55s 70ms/step - loss: 0.6930 - accuracy: 0.5114 - val_loss: 0.6928 - val_accuracy: 0.5134\n",
            "Epoch 4/10\n",
            "782/782 [==============================] - 54s 70ms/step - loss: 0.6928 - accuracy: 0.5085 - val_loss: 0.6927 - val_accuracy: 0.5134\n",
            "Epoch 5/10\n",
            "782/782 [==============================] - 54s 69ms/step - loss: 0.6927 - accuracy: 0.5138 - val_loss: 0.6924 - val_accuracy: 0.5096\n",
            "Epoch 6/10\n",
            "782/782 [==============================] - 53s 68ms/step - loss: 0.6928 - accuracy: 0.5076 - val_loss: 0.6928 - val_accuracy: 0.5077\n",
            "Epoch 7/10\n",
            "782/782 [==============================] - 53s 68ms/step - loss: 0.6928 - accuracy: 0.5110 - val_loss: 0.6926 - val_accuracy: 0.5056\n",
            "Epoch 8/10\n",
            "782/782 [==============================] - 55s 70ms/step - loss: 0.6927 - accuracy: 0.5071 - val_loss: 0.6933 - val_accuracy: 0.5151\n",
            "Epoch 9/10\n",
            "782/782 [==============================] - 55s 70ms/step - loss: 0.6926 - accuracy: 0.5126 - val_loss: 0.6923 - val_accuracy: 0.5162\n",
            "Epoch 10/10\n",
            "782/782 [==============================] - 54s 70ms/step - loss: 0.6929 - accuracy: 0.5126 - val_loss: 0.6926 - val_accuracy: 0.5058\n"
          ]
        },
        {
          "output_type": "execute_result",
          "data": {
            "text/plain": [
              "<keras.src.callbacks.History at 0x7ce693dfb700>"
            ]
          },
          "metadata": {},
          "execution_count": 13
        }
      ],
      "source": [
        "model.fit(X_train,Y_train,epochs=10,validation_data=(X_test,Y_test))"
      ]
    },
    {
      "cell_type": "markdown",
      "metadata": {
        "id": "kiSZZHatREE6"
      },
      "source": [
        "With Integer Encoding and"
      ]
    },
    {
      "cell_type": "code",
      "execution_count": 14,
      "metadata": {
        "id": "-cqSmqBBRCP4"
      },
      "outputs": [],
      "source": [
        "model=Sequential()\n",
        "model.add(Embedding(10000,2))\n",
        "model.add(SimpleRNN(32,input_shape=(100,1),return_sequences=False))\n",
        "model.add(Dense(1,activation=\"sigmoid\"))"
      ]
    },
    {
      "cell_type": "code",
      "execution_count": 15,
      "metadata": {
        "colab": {
          "base_uri": "https://localhost:8080/"
        },
        "id": "tOph0Z3QR47Z",
        "outputId": "ecb74834-5b1c-44f5-ec52-cae3ae94c6d1"
      },
      "outputs": [
        {
          "output_type": "stream",
          "name": "stdout",
          "text": [
            "Model: \"sequential_1\"\n",
            "_________________________________________________________________\n",
            " Layer (type)                Output Shape              Param #   \n",
            "=================================================================\n",
            " embedding (Embedding)       (None, None, 2)           20000     \n",
            "                                                                 \n",
            " simple_rnn_1 (SimpleRNN)    (None, 32)                1120      \n",
            "                                                                 \n",
            " dense_1 (Dense)             (None, 1)                 33        \n",
            "                                                                 \n",
            "=================================================================\n",
            "Total params: 21153 (82.63 KB)\n",
            "Trainable params: 21153 (82.63 KB)\n",
            "Non-trainable params: 0 (0.00 Byte)\n",
            "_________________________________________________________________\n"
          ]
        }
      ],
      "source": [
        "model.summary()"
      ]
    },
    {
      "cell_type": "code",
      "execution_count": 16,
      "metadata": {
        "id": "EKjEDycDSBDN"
      },
      "outputs": [],
      "source": [
        "model.compile(loss=\"binary_crossentropy\",optimizer=\"adam\",metrics=[\"accuracy\"])"
      ]
    },
    {
      "cell_type": "code",
      "execution_count": 17,
      "metadata": {
        "colab": {
          "base_uri": "https://localhost:8080/"
        },
        "id": "pr2288nHSOHk",
        "outputId": "08fa13cf-5adb-4b94-81dd-f644fc7d32a4"
      },
      "outputs": [
        {
          "output_type": "stream",
          "name": "stdout",
          "text": [
            "Epoch 1/10\n",
            "782/782 [==============================] - 113s 143ms/step - loss: 0.6720 - accuracy: 0.5812 - val_loss: 0.5565 - val_accuracy: 0.7308\n",
            "Epoch 2/10\n",
            "782/782 [==============================] - 88s 113ms/step - loss: 0.4233 - accuracy: 0.8174 - val_loss: 0.4503 - val_accuracy: 0.7831\n",
            "Epoch 3/10\n",
            "782/782 [==============================] - 84s 108ms/step - loss: 0.3269 - accuracy: 0.8659 - val_loss: 0.3884 - val_accuracy: 0.8364\n",
            "Epoch 4/10\n",
            "782/782 [==============================] - 84s 108ms/step - loss: 0.3195 - accuracy: 0.8682 - val_loss: 0.4449 - val_accuracy: 0.8272\n",
            "Epoch 5/10\n",
            "782/782 [==============================] - 85s 109ms/step - loss: 0.2878 - accuracy: 0.8894 - val_loss: 0.4237 - val_accuracy: 0.8312\n",
            "Epoch 6/10\n",
            "782/782 [==============================] - 84s 107ms/step - loss: 0.2475 - accuracy: 0.9089 - val_loss: 0.4140 - val_accuracy: 0.8322\n",
            "Epoch 7/10\n",
            "782/782 [==============================] - 85s 109ms/step - loss: 0.2242 - accuracy: 0.9191 - val_loss: 0.4500 - val_accuracy: 0.8261\n",
            "Epoch 8/10\n",
            "782/782 [==============================] - 89s 114ms/step - loss: 0.2080 - accuracy: 0.9250 - val_loss: 0.4762 - val_accuracy: 0.8191\n",
            "Epoch 9/10\n",
            "782/782 [==============================] - 85s 108ms/step - loss: 0.1950 - accuracy: 0.9342 - val_loss: 0.4618 - val_accuracy: 0.8214\n",
            "Epoch 10/10\n",
            "782/782 [==============================] - 83s 106ms/step - loss: 0.1840 - accuracy: 0.9373 - val_loss: 0.5047 - val_accuracy: 0.8206\n"
          ]
        },
        {
          "output_type": "execute_result",
          "data": {
            "text/plain": [
              "<keras.src.callbacks.History at 0x7ce6951951e0>"
            ]
          },
          "metadata": {},
          "execution_count": 17
        }
      ],
      "source": [
        "model.fit(X_train,Y_train,epochs=10,validation_data=(X_test,Y_test))"
      ]
    }
  ],
  "metadata": {
    "accelerator": "GPU",
    "colab": {
      "provenance": [],
      "authorship_tag": "ABX9TyOa/dMn3PbnuoMgaoA8doDg",
      "include_colab_link": true
    },
    "kernelspec": {
      "display_name": "Python 3",
      "name": "python3"
    },
    "language_info": {
      "name": "python"
    }
  },
  "nbformat": 4,
  "nbformat_minor": 0
}