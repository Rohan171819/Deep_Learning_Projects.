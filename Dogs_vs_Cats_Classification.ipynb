{
  "nbformat": 4,
  "nbformat_minor": 0,
  "metadata": {
    "colab": {
      "provenance": [],
      "gpuType": "T4",
      "authorship_tag": "ABX9TyPgPcj3W42VRgOXcsJmmyvX",
      "include_colab_link": true
    },
    "kernelspec": {
      "name": "python3",
      "display_name": "Python 3"
    },
    "language_info": {
      "name": "python"
    },
    "accelerator": "GPU"
  },
  "cells": [
    {
      "cell_type": "markdown",
      "metadata": {
        "id": "view-in-github",
        "colab_type": "text"
      },
      "source": [
        "<a href=\"https://colab.research.google.com/github/Rohan171819/Deep_Learning_Projects./blob/main/Dogs_vs_Cats_Classification.ipynb\" target=\"_parent\"><img src=\"https://colab.research.google.com/assets/colab-badge.svg\" alt=\"Open In Colab\"/></a>"
      ]
    },
    {
      "cell_type": "markdown",
      "source": [],
      "metadata": {
        "id": "q7aAFqGZg6bc"
      }
    },
    {
      "cell_type": "code",
      "source": [
        "!mkdir -p ~/.kaggle\n",
        "!cp kaggle.json ~/.kaggle/"
      ],
      "metadata": {
        "id": "dS2gzvfDnklz"
      },
      "execution_count": 1,
      "outputs": []
    },
    {
      "cell_type": "code",
      "source": [
        "!kaggle datasets download -d salader/dogs-vs-cats"
      ],
      "metadata": {
        "colab": {
          "base_uri": "https://localhost:8080/"
        },
        "id": "pXIle_MLMk7O",
        "outputId": "5cfee35e-28ed-4e71-c7df-320a108261f3"
      },
      "execution_count": 2,
      "outputs": [
        {
          "output_type": "stream",
          "name": "stdout",
          "text": [
            "Warning: Your Kaggle API key is readable by other users on this system! To fix this, you can run 'chmod 600 /root/.kaggle/kaggle.json'\n",
            "Downloading dogs-vs-cats.zip to /content\n",
            "100% 1.06G/1.06G [00:51<00:00, 23.1MB/s]\n",
            "100% 1.06G/1.06G [00:51<00:00, 22.3MB/s]\n"
          ]
        }
      ]
    },
    {
      "cell_type": "code",
      "source": [
        "import zipfile\n",
        "zip_ref=zipfile.ZipFile(\"/content/dogs-vs-cats.zip\",\"r\")\n",
        "zip_ref.extractall(\"/content\")\n",
        "zip_ref.close()"
      ],
      "metadata": {
        "id": "EmD_qAAuMk-F"
      },
      "execution_count": 3,
      "outputs": []
    },
    {
      "cell_type": "code",
      "source": [
        "import tensorflow\n",
        "from tensorflow import keras\n",
        "from tensorflow.keras import Sequential\n",
        "from tensorflow.keras.layers import Dense,Flatten,Conv2D,MaxPooling2D,BatchNormalization,Dropout"
      ],
      "metadata": {
        "id": "YYwtR8fPN8QX"
      },
      "execution_count": 14,
      "outputs": []
    },
    {
      "cell_type": "code",
      "source": [
        "# Generators...\n",
        "train_ds=keras.utils.image_dataset_from_directory(\n",
        "    directory=\"/content/train\",\n",
        "    labels=\"inferred\",\n",
        "    label_mode=\"int\",\n",
        "    batch_size=32,\n",
        "    image_size=(256,256)\n",
        ")\n",
        "\n",
        "validation_ds=keras.utils.image_dataset_from_directory(\n",
        "    directory=\"/content/test\",\n",
        "    labels=\"inferred\",\n",
        "    label_mode=\"int\",\n",
        "    batch_size=32,\n",
        "    image_size=(256,256)\n",
        ")"
      ],
      "metadata": {
        "colab": {
          "base_uri": "https://localhost:8080/"
        },
        "id": "LLylsHbbN8S5",
        "outputId": "4929f4f7-c35c-4cc2-e6b2-e9b0d2da689a"
      },
      "execution_count": 5,
      "outputs": [
        {
          "output_type": "stream",
          "name": "stdout",
          "text": [
            "Found 20000 files belonging to 2 classes.\n",
            "Found 5000 files belonging to 2 classes.\n"
          ]
        }
      ]
    },
    {
      "cell_type": "code",
      "source": [
        "# Normalize...\n",
        "def process(image,label):\n",
        "    image = tensorflow.cast(image/255. ,tensorflow.float32)\n",
        "    return image,label\n",
        "\n",
        "train_ds = train_ds.map(process)\n",
        "validation_ds = validation_ds.map(process)"
      ],
      "metadata": {
        "id": "LVNdfdtBN8Ye"
      },
      "execution_count": 6,
      "outputs": []
    },
    {
      "cell_type": "code",
      "source": [
        "# CNN MOdel...\n",
        "model=Sequential()\n",
        "model.add(Conv2D(16,kernel_size=(3,3),padding=\"valid\",activation=\"relu\",input_shape=(256,256,3)))\n",
        "model.add(BatchNormalization())\n",
        "model.add(MaxPooling2D(pool_size=(2,2),strides=2,padding=\"valid\"))\n",
        "model.add(Conv2D(32,kernel_size=(3,3),padding=\"valid\",activation=\"relu\"))\n",
        "model.add(BatchNormalization())\n",
        "model.add(MaxPooling2D(pool_size=(2,2),padding=\"valid\",strides=2))\n",
        "model.add(Conv2D(64,kernel_size=(3,3),padding=\"valid\",activation=\"relu\"))\n",
        "model.add(BatchNormalization())\n",
        "model.add(MaxPooling2D(pool_size=(2,2),padding=\"valid\",strides=2))\n",
        "model.add(Conv2D(128,kernel_size=(3,3),padding=\"valid\",activation=\"relu\"))\n",
        "model.add(BatchNormalization())\n",
        "model.add(MaxPooling2D(pool_size=(2,2),padding=\"valid\",strides=2))\n",
        "\n",
        "model.add(Flatten())\n",
        "\n",
        "model.add(Dense(128,activation=\"relu\"))\n",
        "model.add(Dropout(0.1))\n",
        "model.add(Dense(64,activation=\"relu\"))\n",
        "model.add(Dropout(0.1))\n",
        "model.add(Dense(32,activation=\"relu\"))\n",
        "model.add(Dropout(0.1))\n",
        "model.add(Dense(1,activation=\"sigmoid\"))"
      ],
      "metadata": {
        "id": "41VidbcmjdG4"
      },
      "execution_count": 15,
      "outputs": []
    },
    {
      "cell_type": "code",
      "source": [
        "model.summary()"
      ],
      "metadata": {
        "colab": {
          "base_uri": "https://localhost:8080/"
        },
        "id": "ivxKL5iMjdKT",
        "outputId": "2cc8ffe2-36b9-4526-bd4a-19cc787bc814"
      },
      "execution_count": 16,
      "outputs": [
        {
          "output_type": "stream",
          "name": "stdout",
          "text": [
            "Model: \"sequential_1\"\n",
            "_________________________________________________________________\n",
            " Layer (type)                Output Shape              Param #   \n",
            "=================================================================\n",
            " conv2d_4 (Conv2D)           (None, 254, 254, 16)      448       \n",
            "                                                                 \n",
            " batch_normalization (Batch  (None, 254, 254, 16)      64        \n",
            " Normalization)                                                  \n",
            "                                                                 \n",
            " max_pooling2d_4 (MaxPoolin  (None, 127, 127, 16)      0         \n",
            " g2D)                                                            \n",
            "                                                                 \n",
            " conv2d_5 (Conv2D)           (None, 125, 125, 32)      4640      \n",
            "                                                                 \n",
            " batch_normalization_1 (Bat  (None, 125, 125, 32)      128       \n",
            " chNormalization)                                                \n",
            "                                                                 \n",
            " max_pooling2d_5 (MaxPoolin  (None, 62, 62, 32)        0         \n",
            " g2D)                                                            \n",
            "                                                                 \n",
            " conv2d_6 (Conv2D)           (None, 60, 60, 64)        18496     \n",
            "                                                                 \n",
            " batch_normalization_2 (Bat  (None, 60, 60, 64)        256       \n",
            " chNormalization)                                                \n",
            "                                                                 \n",
            " max_pooling2d_6 (MaxPoolin  (None, 30, 30, 64)        0         \n",
            " g2D)                                                            \n",
            "                                                                 \n",
            " conv2d_7 (Conv2D)           (None, 28, 28, 128)       73856     \n",
            "                                                                 \n",
            " batch_normalization_3 (Bat  (None, 28, 28, 128)       512       \n",
            " chNormalization)                                                \n",
            "                                                                 \n",
            " max_pooling2d_7 (MaxPoolin  (None, 14, 14, 128)       0         \n",
            " g2D)                                                            \n",
            "                                                                 \n",
            " flatten_1 (Flatten)         (None, 25088)             0         \n",
            "                                                                 \n",
            " dense_4 (Dense)             (None, 128)               3211392   \n",
            "                                                                 \n",
            " dropout (Dropout)           (None, 128)               0         \n",
            "                                                                 \n",
            " dense_5 (Dense)             (None, 64)                8256      \n",
            "                                                                 \n",
            " dropout_1 (Dropout)         (None, 64)                0         \n",
            "                                                                 \n",
            " dense_6 (Dense)             (None, 32)                2080      \n",
            "                                                                 \n",
            " dropout_2 (Dropout)         (None, 32)                0         \n",
            "                                                                 \n",
            " dense_7 (Dense)             (None, 1)                 33        \n",
            "                                                                 \n",
            "=================================================================\n",
            "Total params: 3320161 (12.67 MB)\n",
            "Trainable params: 3319681 (12.66 MB)\n",
            "Non-trainable params: 480 (1.88 KB)\n",
            "_________________________________________________________________\n"
          ]
        }
      ]
    },
    {
      "cell_type": "code",
      "source": [
        "model.compile(optimizer=\"adam\",loss=\"binary_crossentropy\",metrics=[\"accuracy\"])"
      ],
      "metadata": {
        "id": "m7nBT0bEmxh3"
      },
      "execution_count": 17,
      "outputs": []
    },
    {
      "cell_type": "code",
      "source": [
        "history=model.fit(train_ds,epochs=20,validation_data=validation_ds)"
      ],
      "metadata": {
        "colab": {
          "base_uri": "https://localhost:8080/"
        },
        "id": "sIzgueqdmxfJ",
        "outputId": "91863204-f71c-4f5e-e28e-59525badecf2"
      },
      "execution_count": 18,
      "outputs": [
        {
          "output_type": "stream",
          "name": "stdout",
          "text": [
            "Epoch 1/20\n",
            "625/625 [==============================] - 57s 83ms/step - loss: 0.6598 - accuracy: 0.6547 - val_loss: 0.5631 - val_accuracy: 0.6988\n",
            "Epoch 2/20\n",
            "625/625 [==============================] - 54s 86ms/step - loss: 0.4661 - accuracy: 0.7837 - val_loss: 0.4374 - val_accuracy: 0.8018\n",
            "Epoch 3/20\n",
            "625/625 [==============================] - 51s 80ms/step - loss: 0.3757 - accuracy: 0.8345 - val_loss: 0.3802 - val_accuracy: 0.8288\n",
            "Epoch 4/20\n",
            "625/625 [==============================] - 50s 80ms/step - loss: 0.2835 - accuracy: 0.8795 - val_loss: 0.3255 - val_accuracy: 0.8570\n",
            "Epoch 5/20\n",
            "625/625 [==============================] - 50s 79ms/step - loss: 0.2027 - accuracy: 0.9189 - val_loss: 0.3313 - val_accuracy: 0.8626\n",
            "Epoch 6/20\n",
            "625/625 [==============================] - 51s 80ms/step - loss: 0.1287 - accuracy: 0.9508 - val_loss: 0.4776 - val_accuracy: 0.8374\n",
            "Epoch 7/20\n",
            "625/625 [==============================] - 52s 83ms/step - loss: 0.0882 - accuracy: 0.9681 - val_loss: 0.3566 - val_accuracy: 0.8768\n",
            "Epoch 8/20\n",
            "625/625 [==============================] - 56s 88ms/step - loss: 0.0639 - accuracy: 0.9790 - val_loss: 0.5928 - val_accuracy: 0.8526\n",
            "Epoch 9/20\n",
            "625/625 [==============================] - 52s 83ms/step - loss: 0.0481 - accuracy: 0.9833 - val_loss: 0.7456 - val_accuracy: 0.8624\n",
            "Epoch 10/20\n",
            "625/625 [==============================] - 53s 84ms/step - loss: 0.0426 - accuracy: 0.9861 - val_loss: 0.4400 - val_accuracy: 0.8840\n",
            "Epoch 11/20\n",
            "625/625 [==============================] - 50s 80ms/step - loss: 0.0334 - accuracy: 0.9885 - val_loss: 0.6565 - val_accuracy: 0.8636\n",
            "Epoch 12/20\n",
            "625/625 [==============================] - 52s 83ms/step - loss: 0.0275 - accuracy: 0.9905 - val_loss: 0.6023 - val_accuracy: 0.8796\n",
            "Epoch 13/20\n",
            "625/625 [==============================] - 50s 79ms/step - loss: 0.0271 - accuracy: 0.9913 - val_loss: 0.7202 - val_accuracy: 0.8698\n",
            "Epoch 14/20\n",
            "625/625 [==============================] - 50s 80ms/step - loss: 0.0321 - accuracy: 0.9905 - val_loss: 0.5164 - val_accuracy: 0.8700\n",
            "Epoch 15/20\n",
            "625/625 [==============================] - 52s 83ms/step - loss: 0.0227 - accuracy: 0.9919 - val_loss: 0.5380 - val_accuracy: 0.8866\n",
            "Epoch 16/20\n",
            "625/625 [==============================] - 51s 81ms/step - loss: 0.0203 - accuracy: 0.9939 - val_loss: 0.5303 - val_accuracy: 0.8720\n",
            "Epoch 17/20\n",
            "625/625 [==============================] - 50s 80ms/step - loss: 0.0157 - accuracy: 0.9948 - val_loss: 1.0214 - val_accuracy: 0.8454\n",
            "Epoch 18/20\n",
            "625/625 [==============================] - 51s 80ms/step - loss: 0.0215 - accuracy: 0.9929 - val_loss: 0.7455 - val_accuracy: 0.8084\n",
            "Epoch 19/20\n",
            "625/625 [==============================] - 50s 80ms/step - loss: 0.0203 - accuracy: 0.9924 - val_loss: 0.7407 - val_accuracy: 0.8878\n",
            "Epoch 20/20\n",
            "625/625 [==============================] - 51s 81ms/step - loss: 0.0159 - accuracy: 0.9959 - val_loss: 0.6737 - val_accuracy: 0.8684\n"
          ]
        }
      ]
    },
    {
      "cell_type": "code",
      "source": [
        "import matplotlib.pyplot as plt\n",
        "plt.plot(history.history[\"accuracy\"],color=\"red\",label=\"train\")\n",
        "plt.plot(history.history[\"val_accuracy\"],color=\"blue\",label=\"validation\")\n",
        "plt.show()"
      ],
      "metadata": {
        "colab": {
          "base_uri": "https://localhost:8080/",
          "height": 430
        },
        "id": "Ro4s-6DBCnuY",
        "outputId": "41c5e961-0fc4-4792-e946-5ddadb2c041f"
      },
      "execution_count": 19,
      "outputs": [
        {
          "output_type": "display_data",
          "data": {
            "text/plain": [
              "<Figure size 640x480 with 1 Axes>"
            ],
            "image/png": "[encoded data removed]"
          },
          "metadata": {}
        }
      ]
    },
    {
      "cell_type": "code",
      "source": [
        "import matplotlib.pyplot as plt\n",
        "plt.plot(history.history[\"loss\"],color=\"red\",label=\"train\")\n",
        "plt.plot(history.history[\"val_loss\"],color=\"blue\",label=\"validation\")\n",
        "plt.show()"
      ],
      "metadata": {
        "colab": {
          "base_uri": "https://localhost:8080/",
          "height": 430
        },
        "id": "EppsnX1nCnxm",
        "outputId": "b78e7c11-5c38-4138-91a1-64adaa4a960b"
      },
      "execution_count": 20,
      "outputs": [
        {
          "output_type": "display_data",
          "data": {
            "text/plain": [
              "<Figure size 640x480 with 1 Axes>"
            ],
            "image/png": "[encoded data removed]"
          },
          "metadata": {}
        }
      ]
    }
  ]
}